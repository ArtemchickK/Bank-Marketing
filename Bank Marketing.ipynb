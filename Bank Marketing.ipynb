{
 "cells": [
  {
   "cell_type": "markdown",
   "id": "00d67507",
   "metadata": {},
   "source": [
    "## UCI Bank Marketing "
   ]
  },
  {
   "cell_type": "markdown",
   "id": "494e5824",
   "metadata": {},
   "source": [
    "Загрузим данные [UCI Bank Marketing Dataset](https://archive.ics.uci.edu/ml/datasets/bank+marketing). Этот датасет содержит информацию о банковском телефонном маркетинге, объектом в нем является телефонный звонок потенциальному клиенту с предложением некоторой услуги (утверждается, что это краткосрочный депозит), целевой переменной - ответ клиента (согласился ли он открыть депозит?). В качестве признакового описания используются характеристики клиента (образование, брак и т.д.), данные о звонке и различные экономические индикаторы - более подробная информация представлена в файле `bank-additional-names.txt`. Попробуем применить различные варианты работы с категориальными переменными и посмотрим насколько эти методы эффективны результаты они дают."
   ]
  },
  {
   "cell_type": "markdown",
   "id": "47e606c6",
   "metadata": {},
   "source": [
    "### Оглавление\n",
    "* OrdinaryEncoder\n",
    "* OneHotEncoder\n",
    "* MeanEncoder\n",
    "* SmoothMeanEncoder\n",
    "* Results\n",
    "* RandomForest and OneHotEncoder"
   ]
  },
  {
   "cell_type": "code",
   "execution_count": 208,
   "id": "9c1c8c6a",
   "metadata": {},
   "outputs": [],
   "source": [
    "import numpy as np\n",
    "import pandas as pd\n",
    "import matplotlib.pyplot as plt\n",
    "from sklearn.model_selection import train_test_split\n",
    "\n",
    "from sklearn.linear_model import LogisticRegression\n",
    "from sklearn.preprocessing import OneHotEncoder, OrdinalEncoder, StandardScaler\n",
    "from sklearn.metrics import average_precision_score, plot_precision_recall_curve, recall_score, accuracy_score, confusion_matrix\n",
    "from sklearn.metrics import precision_score, f1_score, roc_auc_score, roc_curve, plot_roc_curve\n",
    "from sklearn.compose import ColumnTransformer, make_column_transformer\n",
    "from sklearn.pipeline import make_pipeline, Pipeline\n",
    "import time\n",
    "\n",
    "%matplotlib inline"
   ]
  },
  {
   "cell_type": "code",
   "execution_count": 209,
   "id": "b0cb2e58",
   "metadata": {},
   "outputs": [
    {
     "data": {
      "text/html": [
       "<div>\n",
       "<style scoped>\n",
       "    .dataframe tbody tr th:only-of-type {\n",
       "        vertical-align: middle;\n",
       "    }\n",
       "\n",
       "    .dataframe tbody tr th {\n",
       "        vertical-align: top;\n",
       "    }\n",
       "\n",
       "    .dataframe thead th {\n",
       "        text-align: right;\n",
       "    }\n",
       "</style>\n",
       "<table border=\"1\" class=\"dataframe\">\n",
       "  <thead>\n",
       "    <tr style=\"text-align: right;\">\n",
       "      <th></th>\n",
       "      <th>age</th>\n",
       "      <th>job</th>\n",
       "      <th>marital</th>\n",
       "      <th>education</th>\n",
       "      <th>default</th>\n",
       "      <th>housing</th>\n",
       "      <th>loan</th>\n",
       "      <th>contact</th>\n",
       "      <th>month</th>\n",
       "      <th>day_of_week</th>\n",
       "      <th>...</th>\n",
       "      <th>campaign</th>\n",
       "      <th>pdays</th>\n",
       "      <th>previous</th>\n",
       "      <th>poutcome</th>\n",
       "      <th>emp.var.rate</th>\n",
       "      <th>cons.price.idx</th>\n",
       "      <th>cons.conf.idx</th>\n",
       "      <th>euribor3m</th>\n",
       "      <th>nr.employed</th>\n",
       "      <th>y</th>\n",
       "    </tr>\n",
       "  </thead>\n",
       "  <tbody>\n",
       "    <tr>\n",
       "      <th>0</th>\n",
       "      <td>56</td>\n",
       "      <td>housemaid</td>\n",
       "      <td>married</td>\n",
       "      <td>basic.4y</td>\n",
       "      <td>no</td>\n",
       "      <td>no</td>\n",
       "      <td>no</td>\n",
       "      <td>telephone</td>\n",
       "      <td>may</td>\n",
       "      <td>mon</td>\n",
       "      <td>...</td>\n",
       "      <td>1</td>\n",
       "      <td>999</td>\n",
       "      <td>0</td>\n",
       "      <td>nonexistent</td>\n",
       "      <td>1.1</td>\n",
       "      <td>93.994</td>\n",
       "      <td>-36.4</td>\n",
       "      <td>4.857</td>\n",
       "      <td>5191.0</td>\n",
       "      <td>no</td>\n",
       "    </tr>\n",
       "    <tr>\n",
       "      <th>1</th>\n",
       "      <td>57</td>\n",
       "      <td>services</td>\n",
       "      <td>married</td>\n",
       "      <td>high.school</td>\n",
       "      <td>unknown</td>\n",
       "      <td>no</td>\n",
       "      <td>no</td>\n",
       "      <td>telephone</td>\n",
       "      <td>may</td>\n",
       "      <td>mon</td>\n",
       "      <td>...</td>\n",
       "      <td>1</td>\n",
       "      <td>999</td>\n",
       "      <td>0</td>\n",
       "      <td>nonexistent</td>\n",
       "      <td>1.1</td>\n",
       "      <td>93.994</td>\n",
       "      <td>-36.4</td>\n",
       "      <td>4.857</td>\n",
       "      <td>5191.0</td>\n",
       "      <td>no</td>\n",
       "    </tr>\n",
       "    <tr>\n",
       "      <th>2</th>\n",
       "      <td>37</td>\n",
       "      <td>services</td>\n",
       "      <td>married</td>\n",
       "      <td>high.school</td>\n",
       "      <td>no</td>\n",
       "      <td>yes</td>\n",
       "      <td>no</td>\n",
       "      <td>telephone</td>\n",
       "      <td>may</td>\n",
       "      <td>mon</td>\n",
       "      <td>...</td>\n",
       "      <td>1</td>\n",
       "      <td>999</td>\n",
       "      <td>0</td>\n",
       "      <td>nonexistent</td>\n",
       "      <td>1.1</td>\n",
       "      <td>93.994</td>\n",
       "      <td>-36.4</td>\n",
       "      <td>4.857</td>\n",
       "      <td>5191.0</td>\n",
       "      <td>no</td>\n",
       "    </tr>\n",
       "    <tr>\n",
       "      <th>3</th>\n",
       "      <td>40</td>\n",
       "      <td>admin.</td>\n",
       "      <td>married</td>\n",
       "      <td>basic.6y</td>\n",
       "      <td>no</td>\n",
       "      <td>no</td>\n",
       "      <td>no</td>\n",
       "      <td>telephone</td>\n",
       "      <td>may</td>\n",
       "      <td>mon</td>\n",
       "      <td>...</td>\n",
       "      <td>1</td>\n",
       "      <td>999</td>\n",
       "      <td>0</td>\n",
       "      <td>nonexistent</td>\n",
       "      <td>1.1</td>\n",
       "      <td>93.994</td>\n",
       "      <td>-36.4</td>\n",
       "      <td>4.857</td>\n",
       "      <td>5191.0</td>\n",
       "      <td>no</td>\n",
       "    </tr>\n",
       "    <tr>\n",
       "      <th>4</th>\n",
       "      <td>56</td>\n",
       "      <td>services</td>\n",
       "      <td>married</td>\n",
       "      <td>high.school</td>\n",
       "      <td>no</td>\n",
       "      <td>no</td>\n",
       "      <td>yes</td>\n",
       "      <td>telephone</td>\n",
       "      <td>may</td>\n",
       "      <td>mon</td>\n",
       "      <td>...</td>\n",
       "      <td>1</td>\n",
       "      <td>999</td>\n",
       "      <td>0</td>\n",
       "      <td>nonexistent</td>\n",
       "      <td>1.1</td>\n",
       "      <td>93.994</td>\n",
       "      <td>-36.4</td>\n",
       "      <td>4.857</td>\n",
       "      <td>5191.0</td>\n",
       "      <td>no</td>\n",
       "    </tr>\n",
       "  </tbody>\n",
       "</table>\n",
       "<p>5 rows × 21 columns</p>\n",
       "</div>"
      ],
      "text/plain": [
       "   age        job  marital    education  default housing loan    contact  \\\n",
       "0   56  housemaid  married     basic.4y       no      no   no  telephone   \n",
       "1   57   services  married  high.school  unknown      no   no  telephone   \n",
       "2   37   services  married  high.school       no     yes   no  telephone   \n",
       "3   40     admin.  married     basic.6y       no      no   no  telephone   \n",
       "4   56   services  married  high.school       no      no  yes  telephone   \n",
       "\n",
       "  month day_of_week  ...  campaign  pdays  previous     poutcome emp.var.rate  \\\n",
       "0   may         mon  ...         1    999         0  nonexistent          1.1   \n",
       "1   may         mon  ...         1    999         0  nonexistent          1.1   \n",
       "2   may         mon  ...         1    999         0  nonexistent          1.1   \n",
       "3   may         mon  ...         1    999         0  nonexistent          1.1   \n",
       "4   may         mon  ...         1    999         0  nonexistent          1.1   \n",
       "\n",
       "   cons.price.idx  cons.conf.idx  euribor3m  nr.employed   y  \n",
       "0          93.994          -36.4      4.857       5191.0  no  \n",
       "1          93.994          -36.4      4.857       5191.0  no  \n",
       "2          93.994          -36.4      4.857       5191.0  no  \n",
       "3          93.994          -36.4      4.857       5191.0  no  \n",
       "4          93.994          -36.4      4.857       5191.0  no  \n",
       "\n",
       "[5 rows x 21 columns]"
      ]
     },
     "execution_count": 209,
     "metadata": {},
     "output_type": "execute_result"
    }
   ],
   "source": [
    "df = pd.read_csv('bank-additional-full.csv',sep = ';')\n",
    "df.head()"
   ]
  },
  {
   "cell_type": "code",
   "execution_count": 210,
   "id": "ca079190",
   "metadata": {},
   "outputs": [
    {
     "name": "stdout",
     "output_type": "stream",
     "text": [
      "<class 'pandas.core.frame.DataFrame'>\n",
      "RangeIndex: 41188 entries, 0 to 41187\n",
      "Data columns (total 21 columns):\n",
      " #   Column          Non-Null Count  Dtype  \n",
      "---  ------          --------------  -----  \n",
      " 0   age             41188 non-null  int64  \n",
      " 1   job             41188 non-null  object \n",
      " 2   marital         41188 non-null  object \n",
      " 3   education       41188 non-null  object \n",
      " 4   default         41188 non-null  object \n",
      " 5   housing         41188 non-null  object \n",
      " 6   loan            41188 non-null  object \n",
      " 7   contact         41188 non-null  object \n",
      " 8   month           41188 non-null  object \n",
      " 9   day_of_week     41188 non-null  object \n",
      " 10  duration        41188 non-null  int64  \n",
      " 11  campaign        41188 non-null  int64  \n",
      " 12  pdays           41188 non-null  int64  \n",
      " 13  previous        41188 non-null  int64  \n",
      " 14  poutcome        41188 non-null  object \n",
      " 15  emp.var.rate    41188 non-null  float64\n",
      " 16  cons.price.idx  41188 non-null  float64\n",
      " 17  cons.conf.idx   41188 non-null  float64\n",
      " 18  euribor3m       41188 non-null  float64\n",
      " 19  nr.employed     41188 non-null  float64\n",
      " 20  y               41188 non-null  object \n",
      "dtypes: float64(5), int64(5), object(11)\n",
      "memory usage: 6.6+ MB\n"
     ]
    }
   ],
   "source": [
    "df.info()"
   ]
  },
  {
   "cell_type": "markdown",
   "id": "8236e1f3",
   "metadata": {},
   "source": [
    "Пропущенных значений нет, почти половина признаков являются категориальными"
   ]
  },
  {
   "cell_type": "code",
   "execution_count": 211,
   "id": "300be50f",
   "metadata": {},
   "outputs": [
    {
     "data": {
      "text/plain": [
       "4640"
      ]
     },
     "execution_count": 211,
     "metadata": {},
     "output_type": "execute_result"
    }
   ],
   "source": [
    "df[df['y'] == 'yes']['y'].count()"
   ]
  },
  {
   "cell_type": "code",
   "execution_count": 212,
   "id": "07554cbf",
   "metadata": {},
   "outputs": [
    {
     "data": {
      "text/plain": [
       "36548"
      ]
     },
     "execution_count": 212,
     "metadata": {},
     "output_type": "execute_result"
    }
   ],
   "source": [
    "df[df['y'] == 'no']['y'].count()"
   ]
  },
  {
   "cell_type": "code",
   "execution_count": 213,
   "id": "63c5d703",
   "metadata": {},
   "outputs": [
    {
     "data": {
      "text/plain": [
       "(41188, 21)"
      ]
     },
     "execution_count": 213,
     "metadata": {},
     "output_type": "execute_result"
    }
   ],
   "source": [
    "df.shape"
   ]
  },
  {
   "cell_type": "markdown",
   "id": "621fd044",
   "metadata": {},
   "source": [
    "### OrdinaryEncoder "
   ]
  },
  {
   "cell_type": "markdown",
   "id": "d6d226e1",
   "metadata": {},
   "source": [
    "Попробуем закодировать категориальные признаки с помощью OrdinaryEncoder и посмотрим на метрики качества"
   ]
  },
  {
   "cell_type": "code",
   "execution_count": 214,
   "id": "dca8032e",
   "metadata": {},
   "outputs": [],
   "source": [
    "y = df['y'].map({'no': 0, 'yes': 1})\n",
    "X = df.drop(columns = ['y'])"
   ]
  },
  {
   "cell_type": "code",
   "execution_count": 215,
   "id": "092c52dc",
   "metadata": {},
   "outputs": [],
   "source": [
    "x_train, x_test, y_train, y_test = train_test_split(X, y, train_size=0.75, random_state=777)"
   ]
  },
  {
   "cell_type": "code",
   "execution_count": 216,
   "id": "fee599ef",
   "metadata": {},
   "outputs": [],
   "source": [
    "categorical_features = list(x_train.select_dtypes(include='object').columns)\n",
    "numeric_features = list(x_train.select_dtypes(include= ['int64', 'float64']).columns)"
   ]
  },
  {
   "cell_type": "code",
   "execution_count": 217,
   "id": "6a3b6ac2",
   "metadata": {},
   "outputs": [],
   "source": [
    "models_metrics = {}"
   ]
  },
  {
   "cell_type": "code",
   "execution_count": 218,
   "id": "ba440dd2",
   "metadata": {},
   "outputs": [
    {
     "name": "stdout",
     "output_type": "stream",
     "text": [
      "Wall time: 5.34 s\n"
     ]
    },
    {
     "data": {
      "text/plain": [
       "Pipeline(steps=[('columntransformer',\n",
       "                 ColumnTransformer(remainder='passthrough',\n",
       "                                   transformers=[('ordinalencoder',\n",
       "                                                  OrdinalEncoder(),\n",
       "                                                  ['job', 'marital',\n",
       "                                                   'education', 'default',\n",
       "                                                   'housing', 'loan', 'contact',\n",
       "                                                   'month', 'day_of_week',\n",
       "                                                   'poutcome'])])),\n",
       "                ('logisticregression', LogisticRegression(max_iter=10000))])"
      ]
     },
     "execution_count": 218,
     "metadata": {},
     "output_type": "execute_result"
    }
   ],
   "source": [
    "%%time\n",
    "column_transformer = make_column_transformer((OrdinalEncoder(), categorical_features), remainder = 'passthrough')\n",
    "column_transformer.fit_transform(x_train)\n",
    "\n",
    "pipe = make_pipeline(column_transformer, LogisticRegression(max_iter = 10000))\n",
    "pipe.fit(x_train, y_train)"
   ]
  },
  {
   "cell_type": "code",
   "execution_count": 219,
   "id": "9179520c",
   "metadata": {},
   "outputs": [],
   "source": [
    "y_pred = pipe.predict(x_test)"
   ]
  },
  {
   "cell_type": "code",
   "execution_count": 220,
   "id": "42472b80",
   "metadata": {},
   "outputs": [
    {
     "data": {
      "text/plain": [
       "array([[8831,  228],\n",
       "       [ 735,  503]], dtype=int64)"
      ]
     },
     "execution_count": 220,
     "metadata": {},
     "output_type": "execute_result"
    }
   ],
   "source": [
    "confusion = confusion_matrix(y_test, y_pred)\n",
    "confusion"
   ]
  },
  {
   "cell_type": "code",
   "execution_count": 221,
   "id": "534ea11f",
   "metadata": {},
   "outputs": [],
   "source": [
    "TP = confusion[1,1]\n",
    "TN = confusion[0,0]\n",
    "FP = confusion[0,1]\n",
    "FN = confusion[1,0]"
   ]
  },
  {
   "cell_type": "markdown",
   "id": "e2e691df",
   "metadata": {},
   "source": [
    "Метрики качества"
   ]
  },
  {
   "cell_type": "code",
   "execution_count": 222,
   "id": "891a70d8",
   "metadata": {},
   "outputs": [
    {
     "name": "stdout",
     "output_type": "stream",
     "text": [
      "recall - 0.40630\n",
      "precision - 0.68810\n",
      "f1 - 0.51092\n",
      "roc-auc score - 0.69057\n"
     ]
    }
   ],
   "source": [
    "print(\"recall - %.5f\" %recall_score(y_test, y_pred))\n",
    "print(\"precision - %.5f\" %precision_score(y_test, y_pred))\n",
    "print(\"f1 - %.5f\" %f1_score(y_test, y_pred))\n",
    "print(\"roc-auc score - %.5f\" %roc_auc_score(y_test, y_pred))"
   ]
  },
  {
   "cell_type": "code",
   "execution_count": 223,
   "id": "84e753d7",
   "metadata": {},
   "outputs": [],
   "source": [
    "oenc = []\n",
    "oenc.append(recall_score(y_test, y_pred))\n",
    "oenc.append(precision_score(y_test, y_pred))\n",
    "oenc.append(f1_score(y_test, y_pred))\n",
    "oenc.append(roc_auc_score(y_test, y_pred))\n",
    "models_metrics['OrdinaryEncoder'] = oenc"
   ]
  },
  {
   "cell_type": "markdown",
   "id": "f454798e",
   "metadata": {},
   "source": [
    "### OneHotEncoder"
   ]
  },
  {
   "cell_type": "markdown",
   "id": "773adf61",
   "metadata": {},
   "source": [
    "Закодируем признаки с помощью OneHotEncoder, посмотрим как изменится качество"
   ]
  },
  {
   "cell_type": "code",
   "execution_count": 224,
   "id": "d81bcfac",
   "metadata": {},
   "outputs": [
    {
     "name": "stdout",
     "output_type": "stream",
     "text": [
      "Wall time: 5.31 s\n"
     ]
    },
    {
     "data": {
      "text/plain": [
       "Pipeline(steps=[('columntransformer',\n",
       "                 ColumnTransformer(remainder='passthrough',\n",
       "                                   transformers=[('onehotencoder',\n",
       "                                                  OneHotEncoder(),\n",
       "                                                  ['job', 'marital',\n",
       "                                                   'education', 'default',\n",
       "                                                   'housing', 'loan', 'contact',\n",
       "                                                   'month', 'day_of_week',\n",
       "                                                   'poutcome'])])),\n",
       "                ('logisticregression', LogisticRegression(max_iter=10000))])"
      ]
     },
     "execution_count": 224,
     "metadata": {},
     "output_type": "execute_result"
    }
   ],
   "source": [
    "%%time\n",
    "column_transformer = make_column_transformer((OneHotEncoder(), categorical_features), remainder = 'passthrough')\n",
    "column_transformer.fit_transform(x_train)\n",
    "\n",
    "pipe = make_pipeline(column_trans, LogisticRegression(max_iter = 10000))\n",
    "pipe.fit(x_train, y_train)"
   ]
  },
  {
   "cell_type": "code",
   "execution_count": 225,
   "id": "3a061345",
   "metadata": {},
   "outputs": [],
   "source": [
    "y_pred = pipe.predict(x_test)"
   ]
  },
  {
   "cell_type": "code",
   "execution_count": 226,
   "id": "74bdf1b3",
   "metadata": {},
   "outputs": [
    {
     "data": {
      "text/plain": [
       "array([[8832,  227],\n",
       "       [ 723,  515]], dtype=int64)"
      ]
     },
     "execution_count": 226,
     "metadata": {},
     "output_type": "execute_result"
    }
   ],
   "source": [
    "confusion = confusion_matrix(y_test, y_pred)\n",
    "confusion"
   ]
  },
  {
   "cell_type": "code",
   "execution_count": 227,
   "id": "0cf43c82",
   "metadata": {},
   "outputs": [
    {
     "name": "stdout",
     "output_type": "stream",
     "text": [
      "recall - 0.41599\n",
      "precision - 0.69407\n",
      "f1 - 0.52020\n",
      "roc-auc score - 0.69547\n"
     ]
    }
   ],
   "source": [
    "print(\"recall - %.5f\" %recall_score(y_test, y_pred))\n",
    "print(\"precision - %.5f\" %precision_score(y_test, y_pred))\n",
    "print(\"f1 - %.5f\" %f1_score(y_test, y_pred))\n",
    "print(\"roc-auc score - %.5f\" %roc_auc_score(y_test, y_pred))"
   ]
  },
  {
   "cell_type": "code",
   "execution_count": 228,
   "id": "538f263f",
   "metadata": {},
   "outputs": [],
   "source": [
    "ohenc = []\n",
    "ohenc.append(recall_score(y_test, y_pred))\n",
    "ohenc.append(precision_score(y_test, y_pred))\n",
    "ohenc.append(f1_score(y_test, y_pred))\n",
    "ohenc.append(roc_auc_score(y_test, y_pred))\n",
    "models_metrics['OneHotEncoder'] = ohenc"
   ]
  },
  {
   "cell_type": "markdown",
   "id": "dc6de0db",
   "metadata": {},
   "source": [
    "### MeanEncoder"
   ]
  },
  {
   "cell_type": "markdown",
   "id": "d57b9634",
   "metadata": {},
   "source": [
    "One-hot-кодирование может сильно увеличивать количество признаков в датасете, что сказывается на памяти, особенно, если некоторый признак имеет большое количество значений. Эту проблему решает другой способ кодирования категориальных признаков — счётчики. Основная идея в том, что нам важны не сами категории, а значения целевой переменной, которые имеют объекты этой категории. Каждый категориальный признак мы заменим средним значением целевой переменной по всем объектам этой же категории:\n",
    "$$\n",
    "g_j(x, X) = \\frac{\\sum_{i=1}^{l} [f_j(x) = f_j(x_i)][y_i = +1]}{\\sum_{i=1}^{l} [f_j(x) = f_j(x_i)]}\n",
    "$$"
   ]
  },
  {
   "cell_type": "code",
   "execution_count": 229,
   "id": "e150c8be",
   "metadata": {},
   "outputs": [],
   "source": [
    "def MeanEncoder(data, categorical_feature, target_feature):\n",
    "    df = data.copy()\n",
    "    df[target_feature] = df[target_feature].map({'yes': 1, 'no': 0})\n",
    "    for column_name in categorical_feature:\n",
    "        mean_encoder = df.groupby([column_name])[target_feature].mean().to_dict()\n",
    "        df[column_name] = df[column_name].map(mean_encoder)\n",
    "    return df"
   ]
  },
  {
   "cell_type": "code",
   "execution_count": 230,
   "id": "f61189ee",
   "metadata": {},
   "outputs": [
    {
     "name": "stdout",
     "output_type": "stream",
     "text": [
      "Wall time: 66 ms\n"
     ]
    }
   ],
   "source": [
    "%%time\n",
    "data = MeanEncoder(df, categorical_features, 'y')"
   ]
  },
  {
   "cell_type": "code",
   "execution_count": 231,
   "id": "0378ab44",
   "metadata": {},
   "outputs": [
    {
     "data": {
      "text/plain": [
       "LogisticRegression(max_iter=10000)"
      ]
     },
     "execution_count": 231,
     "metadata": {},
     "output_type": "execute_result"
    }
   ],
   "source": [
    "X = data.drop(columns=['y'])\n",
    "y = data['y']\n",
    "x_train, x_test, y_train, y_test = train_test_split(X, y, train_size=0.75, random_state=777)\n",
    "\n",
    "model = LogisticRegression(max_iter = 10000)\n",
    "model.fit(x_train, y_train)"
   ]
  },
  {
   "cell_type": "code",
   "execution_count": 232,
   "id": "dfa29ed2",
   "metadata": {},
   "outputs": [],
   "source": [
    "y_pred = model.predict(x_test)"
   ]
  },
  {
   "cell_type": "code",
   "execution_count": 233,
   "id": "394d329b",
   "metadata": {},
   "outputs": [
    {
     "data": {
      "text/plain": [
       "array([[8839,  220],\n",
       "       [ 766,  472]], dtype=int64)"
      ]
     },
     "execution_count": 233,
     "metadata": {},
     "output_type": "execute_result"
    }
   ],
   "source": [
    "confusion = confusion_matrix(y_test, y_pred)\n",
    "confusion"
   ]
  },
  {
   "cell_type": "code",
   "execution_count": 234,
   "id": "5b1ad72e",
   "metadata": {},
   "outputs": [
    {
     "name": "stdout",
     "output_type": "stream",
     "text": [
      "recall - 0.38126\n",
      "precision - 0.68208\n",
      "f1 - 0.48912\n",
      "roc-auc score - 0.67849\n"
     ]
    }
   ],
   "source": [
    "print(\"recall - %.5f\" %recall_score(y_test, y_pred))\n",
    "print(\"precision - %.5f\" %precision_score(y_test, y_pred))\n",
    "print(\"f1 - %.5f\" %f1_score(y_test, y_pred))\n",
    "print(\"roc-auc score - %.5f\" %roc_auc_score(y_test, y_pred))"
   ]
  },
  {
   "cell_type": "code",
   "execution_count": 235,
   "id": "c54c2074",
   "metadata": {},
   "outputs": [],
   "source": [
    "menc = []\n",
    "menc.append(recall_score(y_test, y_pred))\n",
    "menc.append(precision_score(y_test, y_pred))\n",
    "menc.append(f1_score(y_test, y_pred))\n",
    "menc.append(roc_auc_score(y_test, y_pred))\n",
    "models_metrics['MeanEncoder'] = menc"
   ]
  },
  {
   "cell_type": "markdown",
   "id": "b2878445",
   "metadata": {},
   "source": [
    "### Smooth Mean Encoder"
   ]
  },
  {
   "cell_type": "markdown",
   "id": "46485063",
   "metadata": {},
   "source": [
    "Если переменная встечается всего несколько раз, тогда она будет слишком сильно коррелировать с целевой переменной,что впоследствии может оказать негативный результат на модель.В этом заключается главный минус MeanEncoder. По этой причине производится сглаживание счётчиков. Например, частое используются сглаживания средним по всей выборке:\n",
    "$$\n",
    "g_j(x, X) = \\frac{\\sum_{i=1}^{\\ell} [f_j(x) = f_j(x_i)][y_i = +1] + C \\times global\\_mean}{\\sum_{i=1}^{\\ell} [f_j(x) = f_j(x_i)] + C}\n",
    "$$\n",
    "где $global\\_mean$ — доля объектов положительного класса в выборке, $C$ — параметр, определяющий степень сглаживания (например, можно использовать 10 или подобрать для каждого признака свой). \n"
   ]
  },
  {
   "cell_type": "code",
   "execution_count": 236,
   "id": "c6b886e5",
   "metadata": {},
   "outputs": [],
   "source": [
    "def SmoothMeanEncoder(data, categorical_feature, target_feature, smooth):\n",
    "    df = data.copy()\n",
    "    df[target_feature] = df[target_feature].map({'yes': 1, 'no': 0})\n",
    "    \n",
    "    for column_name in categorical_feature:\n",
    "        global_mean = df[target_feature].mean()\n",
    "        variables_size = df.groupby([column_name]).size()\n",
    "        variables_positive = df.groupby([column_name])[target_feature].sum()\n",
    "        smooth_encoder = (variables_size * variables_positive + smooth * global_mean) / (variables_size + smooth)\n",
    "        \n",
    "        df[column_name] = df[column_name].map(smooth_encoder)\n",
    "    return df"
   ]
  },
  {
   "cell_type": "code",
   "execution_count": 237,
   "id": "e73d8368",
   "metadata": {},
   "outputs": [],
   "source": [
    "data = SmoothMeanEncoder(df,categorical_features, 'y', 0.5)"
   ]
  },
  {
   "cell_type": "code",
   "execution_count": 238,
   "id": "82d57913",
   "metadata": {},
   "outputs": [
    {
     "name": "stdout",
     "output_type": "stream",
     "text": [
      "Wall time: 3.34 s\n"
     ]
    },
    {
     "data": {
      "text/plain": [
       "LogisticRegression(max_iter=10000)"
      ]
     },
     "execution_count": 238,
     "metadata": {},
     "output_type": "execute_result"
    }
   ],
   "source": [
    "%%time\n",
    "X = data.drop(columns=['y'])\n",
    "y = data['y']\n",
    "x_train, x_test, y_train, y_test = train_test_split(X, y, train_size=0.75, random_state=777)\n",
    "\n",
    "model = LogisticRegression(max_iter = 10000)\n",
    "model.fit(x_train, y_train)"
   ]
  },
  {
   "cell_type": "code",
   "execution_count": 239,
   "id": "74a50194",
   "metadata": {},
   "outputs": [],
   "source": [
    "y_pred = model.predict(x_test)"
   ]
  },
  {
   "cell_type": "code",
   "execution_count": 240,
   "id": "31acc71a",
   "metadata": {},
   "outputs": [
    {
     "data": {
      "text/plain": [
       "array([[8824,  235],\n",
       "       [ 758,  480]], dtype=int64)"
      ]
     },
     "execution_count": 240,
     "metadata": {},
     "output_type": "execute_result"
    }
   ],
   "source": [
    "confusion = confusion_matrix(y_test, y_pred)\n",
    "confusion"
   ]
  },
  {
   "cell_type": "code",
   "execution_count": 241,
   "id": "22bc1003",
   "metadata": {},
   "outputs": [
    {
     "name": "stdout",
     "output_type": "stream",
     "text": [
      "recall - 0.38772\n",
      "precision - 0.67133\n",
      "f1 - 0.49155\n",
      "roc-auc score - 0.68089\n"
     ]
    }
   ],
   "source": [
    "print(\"recall - %.5f\" %recall_score(y_test, y_pred))\n",
    "print(\"precision - %.5f\" %precision_score(y_test, y_pred))\n",
    "print(\"f1 - %.5f\" %f1_score(y_test, y_pred))\n",
    "print(\"roc-auc score - %.5f\" %roc_auc_score(y_test, y_pred))"
   ]
  },
  {
   "cell_type": "code",
   "execution_count": 242,
   "id": "1fa14147",
   "metadata": {},
   "outputs": [],
   "source": [
    "smenc = []\n",
    "smenc.append(recall_score(y_test, y_pred))\n",
    "smenc.append(precision_score(y_test, y_pred))\n",
    "smenc.append(f1_score(y_test, y_pred))\n",
    "smenc.append(roc_auc_score(y_test, y_pred))\n",
    "models_metrics['SmoothMeanEncoder'] = smenc"
   ]
  },
  {
   "cell_type": "markdown",
   "id": "1a6083ac",
   "metadata": {},
   "source": [
    "### Results"
   ]
  },
  {
   "cell_type": "code",
   "execution_count": 248,
   "id": "0faf86c3",
   "metadata": {},
   "outputs": [
    {
     "name": "stdout",
     "output_type": "stream",
     "text": [
      "OrdinaryEncoder\n",
      " recall - 0.40630\n",
      " precision - 0.68810\n",
      " f1 - 0.51092\n",
      " roc-auc score - 0.69057\n",
      "OneHotEncoder\n",
      " recall - 0.41599\n",
      " precision - 0.69407\n",
      " f1 - 0.52020\n",
      " roc-auc score - 0.69547\n",
      "MeanEncoder\n",
      " recall - 0.38126\n",
      " precision - 0.68208\n",
      " f1 - 0.48912\n",
      " roc-auc score - 0.67849\n",
      "SmoothMeanEncoder\n",
      " recall - 0.38772\n",
      " precision - 0.67133\n",
      " f1 - 0.49155\n",
      " roc-auc score - 0.68089\n"
     ]
    }
   ],
   "source": [
    "for k,v in models_metrics.items():\n",
    "    print(k)\n",
    "    print(\" recall - %.5f\" %v[0])\n",
    "    print(\" precision - %.5f\" %v[1])\n",
    "    print(\" f1 - %.5f\" %v[2])\n",
    "    print(\" roc-auc score - %.5f\" %v[3])\n",
    "    "
   ]
  },
  {
   "cell_type": "markdown",
   "id": "1e46e882",
   "metadata": {},
   "source": [
    "### RandomForest and OneHotEncoder"
   ]
  },
  {
   "cell_type": "code",
   "execution_count": 249,
   "id": "d2af71bb",
   "metadata": {},
   "outputs": [],
   "source": [
    "from sklearn.ensemble import RandomForestClassifier"
   ]
  },
  {
   "cell_type": "code",
   "execution_count": 252,
   "id": "41727b91",
   "metadata": {},
   "outputs": [],
   "source": [
    "y = df['y'].map({'yes': 1, 'no': 0})\n",
    "X = df.drop(columns = 'y')"
   ]
  },
  {
   "cell_type": "code",
   "execution_count": 265,
   "id": "ebc4952d",
   "metadata": {},
   "outputs": [
    {
     "data": {
      "text/plain": [
       "Pipeline(steps=[('columntransformer',\n",
       "                 ColumnTransformer(remainder='passthrough',\n",
       "                                   transformers=[('onehotencoder',\n",
       "                                                  OneHotEncoder(),\n",
       "                                                  ['job', 'marital',\n",
       "                                                   'education', 'default',\n",
       "                                                   'housing', 'loan', 'contact',\n",
       "                                                   'month', 'day_of_week',\n",
       "                                                   'poutcome'])])),\n",
       "                ('randomforestclassifier',\n",
       "                 RandomForestClassifier(n_estimators=5))])"
      ]
     },
     "execution_count": 265,
     "metadata": {},
     "output_type": "execute_result"
    }
   ],
   "source": [
    "x_train, x_test, y_train, y_test = train_test_split(X,y, train_size = 0.75, random_state = 777)\n",
    "transform = make_column_transformer((OneHotEncoder(), categorical_features), remainder = 'passthrough')\n",
    "transform.fit_transform(x_train)\n",
    "\n",
    "pipe = make_pipeline(transform, RandomForestClassifier(n_estimators = 5))\n",
    "pipe.fit(x_train, y_train)"
   ]
  },
  {
   "cell_type": "code",
   "execution_count": 266,
   "id": "dca3cc9b",
   "metadata": {},
   "outputs": [],
   "source": [
    "y_pred = pipe.predict(x_test)"
   ]
  },
  {
   "cell_type": "code",
   "execution_count": 267,
   "id": "a980cb72",
   "metadata": {},
   "outputs": [
    {
     "name": "stdout",
     "output_type": "stream",
     "text": [
      "recall - 0.44992\n",
      "precision - 0.57840\n",
      "f1 - 0.50613\n",
      "roc-auc score - 0.70255\n"
     ]
    }
   ],
   "source": [
    "print(\"recall - %.5f\" %recall_score(y_test, y_pred))\n",
    "print(\"precision - %.5f\" %precision_score(y_test, y_pred))\n",
    "print(\"f1 - %.5f\" %f1_score(y_test, y_pred))\n",
    "print(\"roc-auc score - %.5f\" %roc_auc_score(y_test, y_pred))"
   ]
  }
 ],
 "metadata": {
  "kernelspec": {
   "display_name": "Python 3",
   "language": "python",
   "name": "python3"
  },
  "language_info": {
   "codemirror_mode": {
    "name": "ipython",
    "version": 3
   },
   "file_extension": ".py",
   "mimetype": "text/x-python",
   "name": "python",
   "nbconvert_exporter": "python",
   "pygments_lexer": "ipython3",
   "version": "3.6.13"
  }
 },
 "nbformat": 4,
 "nbformat_minor": 5
}
